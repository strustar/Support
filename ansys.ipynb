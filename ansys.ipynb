{
 "cells": [
  {
   "cell_type": "code",
   "execution_count": 1,
   "metadata": {},
   "outputs": [
    {
     "name": "stdout",
     "output_type": "stream",
     "text": [
      "###################### An error occurred: name 'np' is not defined\n"
     ]
    }
   ],
   "source": [
    "from ansys.mapdl.core import launch_mapdl\n",
    "\n",
    "# start MAPDL and enter the pre-processing routine\n",
    "mapdl = launch_mapdl()\n",
    "mapdl.clear()\n",
    "mapdl.prep7()\n",
    "\n",
    "vnum = mapdl.block(0, 1, 0, 2, 1, 4)\n",
    "mapdl.vplot(\n",
    "    show_lines=False,\n",
    "    show_bounds=True,\n",
    "    color=(0.5, 0.5, 0.5),\n",
    "    background=(0.8, 0.8, 0.8),\n",
    ")\n",
    "mapdl.exit()"
   ]
  }
 ],
 "metadata": {
  "kernelspec": {
   "display_name": "support",
   "language": "python",
   "name": "python3"
  },
  "language_info": {
   "codemirror_mode": {
    "name": "ipython",
    "version": 3
   },
   "file_extension": ".py",
   "mimetype": "text/x-python",
   "name": "python",
   "nbconvert_exporter": "python",
   "pygments_lexer": "ipython3",
   "version": "3.11.4"
  },
  "orig_nbformat": 4
 },
 "nbformat": 4,
 "nbformat_minor": 2
}
